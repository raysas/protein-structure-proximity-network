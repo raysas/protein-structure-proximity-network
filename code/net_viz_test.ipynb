{
 "cells": [
  {
   "cell_type": "code",
   "execution_count": 2,
   "metadata": {},
   "outputs": [],
   "source": [
    "import Bio.PDB as PDB\n",
    "import networkx as nx\n",
    "import pyvis"
   ]
  },
  {
   "cell_type": "code",
   "execution_count": 11,
   "metadata": {},
   "outputs": [
    {
     "name": "stdout",
     "output_type": "stream",
     "text": [
      "Warning: When  cdn_resources is 'local' jupyter notebook has issues displaying graphics on chrome/safari. Use cdn_resources='in_line' or cdn_resources='remote' if you have issues viewing graphics in a notebook.\n",
      "graph.html\n"
     ]
    },
    {
     "data": {
      "text/html": [
       "\n",
       "        <iframe\n",
       "            width=\"100%\"\n",
       "            height=\"600px\"\n",
       "            src=\"graph.html\"\n",
       "            frameborder=\"0\"\n",
       "            allowfullscreen\n",
       "            \n",
       "        ></iframe>\n",
       "        "
      ],
      "text/plain": [
       "<IPython.lib.display.IFrame at 0x7f842052e110>"
      ]
     },
     "execution_count": 11,
     "metadata": {},
     "output_type": "execute_result"
    }
   ],
   "source": [
    "import networkx as nx\n",
    "from pyvis.network import Network\n",
    "\n",
    "G = nx.karate_club_graph()\n",
    "# Create a pyvis network\n",
    "net = Network(notebook=True)\n",
    "\n",
    "# Convert the NetworkX graph to a pyvis network\n",
    "net.from_nx(G)\n",
    "# color the nodes\n",
    "net.show_buttons(filter_=['nodes'])\n",
    "# add pos to the nodes\n",
    "\n",
    "\n",
    "# Visualize the graph\n",
    "net.show(\"graph.html\")"
   ]
  },
  {
   "cell_type": "code",
   "execution_count": 12,
   "metadata": {},
   "outputs": [
    {
     "name": "stdout",
     "output_type": "stream",
     "text": [
      "Warning: When  cdn_resources is 'local' jupyter notebook has issues displaying graphics on chrome/safari. Use cdn_resources='in_line' or cdn_resources='remote' if you have issues viewing graphics in a notebook.\n",
      "../test/graph_colored.html\n"
     ]
    },
    {
     "data": {
      "text/html": [
       "\n",
       "        <iframe\n",
       "            width=\"100%\"\n",
       "            height=\"600px\"\n",
       "            src=\"../test/graph_colored.html\"\n",
       "            frameborder=\"0\"\n",
       "            allowfullscreen\n",
       "            \n",
       "        ></iframe>\n",
       "        "
      ],
      "text/plain": [
       "<IPython.lib.display.IFrame at 0x7f84112434d0>"
      ]
     },
     "execution_count": 12,
     "metadata": {},
     "output_type": "execute_result"
    }
   ],
   "source": [
    "import networkx as nx\n",
    "from pyvis.network import Network\n",
    "\n",
    "# Create a NetworkX graph\n",
    "G = nx.Graph()\n",
    "\n",
    "# Add nodes with positions and colors\n",
    "positions = {\n",
    "    1: (100, 200),\n",
    "    2: (200, 300),\n",
    "    3: (300, 400)\n",
    "}\n",
    "colors = {\n",
    "    1: 'rgb(255,0,0)',  # Red\n",
    "    2: 'rgb(0,255,0)',  # Green\n",
    "    3: 'rgb(0,0,255)'   # Blue\n",
    "}\n",
    "\n",
    "for node, pos in positions.items():\n",
    "    G.add_node(node, pos=pos, color=colors[node])\n",
    "\n",
    "# Add edges\n",
    "G.add_edges_from([(1, 2), (2, 3), (3, 1)])\n",
    "\n",
    "# Create a Pyvis network\n",
    "net = Network(notebook=True)\n",
    "\n",
    "# Add nodes with positions and colors to the Pyvis network\n",
    "for node in G.nodes:\n",
    "    x, y = G.nodes[node]['pos']\n",
    "    color = G.nodes[node]['color']\n",
    "    net.add_node(node, x=x, y=y, color=color)\n",
    "\n",
    "# Add edges\n",
    "for edge in G.edges:\n",
    "    net.add_edge(edge[0], edge[1])\n",
    "\n",
    "# Visualize the graph\n",
    "net.show(\"../test/graph_colored.html\")\n"
   ]
  },
  {
   "cell_type": "code",
   "execution_count": 1,
   "metadata": {},
   "outputs": [],
   "source": [
    "import networkx as nx\n",
    "from pyvis.network import Network\n",
    "import matplotlib.pyplot as plt\n",
    "import matplotlib.colors as mcolors\n",
    "import numpy as np\n",
    "\n",
    "# Create a sample NetworkX graph\n",
    "G = nx.karate_club_graph()  # Example graph; replace with your graph `G`\n",
    "\n",
    "# Generate positions using spring layout\n",
    "positions = nx.spring_layout(G)\n",
    "\n",
    "# Function to create a color gradient\n",
    "def get_color_gradient(n, colormap='viridis'):\n",
    "    cmap = plt.get_cmap(colormap)\n",
    "    norm = mcolors.Normalize(vmin=0, vmax=n-1)\n",
    "    scalar_map = plt.cm.ScalarMappable(norm=norm, cmap=cmap)\n",
    "    return [mcolors.to_hex(scalar_map.to_rgba(i)) for i in range(n)]\n",
    "\n",
    "# Generate colors based on node degrees (or any other property)\n",
    "num_nodes = G.number_of_nodes()\n",
    "colors = get_color_gradient(num_nodes)\n",
    "\n",
    "# Map each node to a color\n",
    "node_color_mapping = {node: colors[i] for i, node in enumerate(G.nodes)}\n",
    "\n",
    "# Add positions and colors to the nodes in the NetworkX graph G\n",
    "for node in G.nodes:\n",
    "    G.nodes[node]['pos'] = positions[node]\n",
    "    G.nodes[node]['color'] = node_color_mapping[node]\n",
    "\n",
    "# Create a Pyvis network\n",
    "net = Network(notebook=True)\n",
    "\n",
    "# Add nodes with positions and colors to the Pyvis network\n",
    "for node in G.nodes:\n",
    "    x, y = G.nodes[node]['pos']\n",
    "    color = G.nodes[node]['color']\n",
    "    net.add_node(node, x=x, y=y, color=color)\n",
    "\n",
    "# Add edges\n",
    "for edge in G.edges:\n",
    "    net.add_edge(edge[0], edge[1])\n",
    "\n",
    "# Visualize the graph\n",
    "net.show(\"../test/karate_graph.html\")\n"
   ]
  }
 ],
 "metadata": {
  "kernelspec": {
   "display_name": "base",
   "language": "python",
   "name": "python3"
  },
  "language_info": {
   "codemirror_mode": {
    "name": "ipython",
    "version": 3
   },
   "file_extension": ".py",
   "mimetype": "text/x-python",
   "name": "python",
   "nbconvert_exporter": "python",
   "pygments_lexer": "ipython3",
   "version": "3.11.5"
  }
 },
 "nbformat": 4,
 "nbformat_minor": 2
}
