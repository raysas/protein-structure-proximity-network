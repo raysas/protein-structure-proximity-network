{
 "cells": [
  {
   "cell_type": "markdown",
   "metadata": {},
   "source": [
    "# Generating protein structure network\n",
    "\n",
    "The aim of this notebook is to create a network of a protein structure. The nodes of the network are the amino acids and the edges are the defined by the euclidean distance between them."
   ]
  },
  {
   "cell_type": "markdown",
   "metadata": {},
   "source": [
    "## Essentials\n",
    "\n"
   ]
  },
  {
   "cell_type": "markdown",
   "metadata": {},
   "source": [
    "Run the following code to install and import the necessary libraries."
   ]
  },
  {
   "cell_type": "code",
   "execution_count": 19,
   "metadata": {},
   "outputs": [],
   "source": [
    "# %pip install -q biopython networkx matplotlib numpy pandas pyvis seaborn"
   ]
  },
  {
   "cell_type": "code",
   "execution_count": 20,
   "metadata": {},
   "outputs": [],
   "source": [
    "import logging\n",
    "import os, sys\n",
    "from Bio import PDB\n",
    "import networkx as nx\n",
    "import pandas as pd\n",
    "import numpy as np\n",
    "import matplotlib.pyplot as plt\n",
    "import matplotlib.colors as mcolors\n",
    "from pyvis.network import Network\n",
    "import seaborn as sns\n",
    "\n",
    "# os.chdir(os.path.expanduser('..'))"
   ]
  },
  {
   "cell_type": "markdown",
   "metadata": {},
   "source": [
    "Run these functions"
   ]
  },
  {
   "cell_type": "code",
   "execution_count": 21,
   "metadata": {},
   "outputs": [],
   "source": [
    "def get_PDB_structure(pdb_id:str)->PDB.Structure.Structure:\n",
    "    '''\n",
    "    Takes a pdb id and returns its sructure\n",
    "\n",
    "    Starts by retriving the pdb file, saving it in data/{pdb_id}/{pdb_id}.pdb\n",
    "    then reads the file and returns the structure\n",
    "\n",
    "    param:\n",
    "    ------\n",
    "    - pdb_id: str, pdb id of the structure to be retrived\n",
    "\n",
    "    return:\n",
    "    -------\n",
    "    - structure: Bio.PDB.Structure.Structure, structure of the pdb file\n",
    "    '''\n",
    "    pdb_id=pdb_id.lower()\n",
    "    pdb_list = PDB.PDBList()\n",
    "    pdb_list.retrieve_pdb_file(pdb_id, pdir=f'data/{pdb_id}', file_format='pdb')\n",
    "    os.rename(f'data/{pdb_id}/pdb{pdb_id}.ent', f'data/{pdb_id}/{pdb_id}.pdb')\n",
    "        \n",
    "    parser = PDB.PDBParser()\n",
    "    structure = parser.get_structure(pdb_id, f'data/{pdb_id}/{pdb_id}.pdb')\n",
    "    return structure\n",
    "\n",
    "def get_residues_coordinates(structure:PDB.Structure.Structure)->dict:\n",
    "    '''\n",
    "    takes a structure and returns a dictionary of the residues and their coordinates\n",
    "    the coordinates are the coordinates of the alpha carbon\n",
    "\n",
    "    param:\n",
    "    ------\n",
    "    - structure: Bio.PDB.Structure.Structure, structure of the pdb file\n",
    "\n",
    "    return:\n",
    "    -------\n",
    "    - sequence: dict, dictionary of the residues and their coordinates\n",
    "    '''\n",
    "\n",
    "    sequence={}\n",
    "\n",
    "    for model in structure:\n",
    "        for chain in model:\n",
    "            for residue in chain:  \n",
    "                # print(residue.get_id())  \n",
    "                \n",
    "                if residue.get_id()[0] != ' ':\n",
    "                    continue                      \n",
    "                aa_name=aa[residue.get_resname()]\n",
    "                index=residue.get_id()[1] \n",
    "\n",
    "                res=aa_name+str(index)\n",
    "\n",
    "                for atom in residue:\n",
    "                    if atom.get_name() == 'CA':\n",
    "                        alphaC_coord=list(atom.get_coord())\n",
    "                        # print(atom.get_coord())\n",
    "                        sequence[res]=alphaC_coord\n",
    "    return sequence\n",
    "\n",
    "def euclidian_distance(c1:list, c2:list)->float:\n",
    "    '''\n",
    "    takes 2 vectors in 3D space and returns the euclidian distance between them\n",
    "\n",
    "    param:\n",
    "    ------\n",
    "    - c1: list, list of 3 floats, coordinates of the first vector\n",
    "    - c2: list, list of 3 floats, coordinates of the second vector\n",
    "\n",
    "    $$\\sqrt{{(coordinates_{1_1} - coordinates_{2_1})}^2 + {(coordinates_{1_2} - coordinates_{2_2})}^2 + {(coordinates_{1_3} - coordinates_{2_3})}^2}$$\n",
    "\n",
    "    return:\n",
    "    -------\n",
    "    - distance: float, euclidian distance between the 2 points\n",
    "    '''\n",
    "    distance = ((c1[0]-c2[0])**2 + (c1[1]-c2[1])**2 + (c1[2]-c2[2])**2)**0.5\n",
    "    return distance\n",
    "\n",
    "def visualize_map(df, id=None):\n",
    "    '''takes a dataframe and viz as heatmap\n",
    "    \n",
    "    param:\n",
    "    ------\n",
    "    - df: pd.DataFrame\n",
    "\n",
    "    return:\n",
    "    -------\n",
    "    - None\n",
    "    '''\n",
    "    plt.figure(figsize=(8,6))\n",
    "    sns.heatmap(df, cmap='viridis')\n",
    "    plt.xticks(rotation=70)\n",
    "    plt.title(f'Contact Map of the residues in the protein {id}')\n",
    "\n",
    "    if id!=None:\n",
    "        plt.savefig(f'data/{id}/{id}_contact_map.png')\n",
    "\n",
    "    return None\n",
    "    \n",
    "def create_distance_map(sequence:dict)->np.array:\n",
    "    '''\n",
    "    takes a sequence of residues and their coordinates and returns a contact map\n",
    "\n",
    "    param:\n",
    "    ------\n",
    "    - sequence: dict, dictionary of the residues and their coordinates\n",
    "\n",
    "    return:\n",
    "    -------\n",
    "    - contact_map: pd.DataFrame, contact map of the residues\n",
    "    '''\n",
    "    contact_map = np.zeros((len(sequence), len(sequence)))\n",
    "    for i, (res1, coord1) in enumerate(sequence.items()):\n",
    "        for j, (res2, coord2) in enumerate(sequence.items()):\n",
    "            contact_map[i][j] = euclidian_distance(coord1, coord2)\n",
    "    df=pd.DataFrame(contact_map, index=sequence.keys(), columns=sequence.keys())\n",
    "\n",
    "    # visualize_map(df)\n",
    "    \n",
    "    return df\n",
    "\n",
    "def create_network(distance_df:pd.DataFrame, threshold=9)->nx.Graph:\n",
    "    '''\n",
    "    takes a distance map and establishes an edge whenever teh distance is $<$ threshold\n",
    "\n",
    "    typically distance is measured in Angstroms, so a threshold of 5 would mean that the residues are within 5 Angstroms of each other\n",
    "\n",
    "    param:\n",
    "    -----\n",
    "    - distance_df: pd.DataFrame, dataframe of ditsnaces as entries\n",
    "    - threshold: float, threshold for the distance (default=8)\n",
    "\n",
    "    return:\n",
    "    -------\n",
    "    - G: nx.Graph, networkx weighted graph (weight=distance)\n",
    "    '''\n",
    "    G = nx.Graph()\n",
    "\n",
    "    for i, row in distance_df.iterrows():\n",
    "        for j, dist in row.items():\n",
    "            if dist < threshold:\n",
    "                G.add_edge(i, j, weight=dist)\n",
    "\n",
    "    G.remove_edges_from(nx.selfloop_edges(G))\n",
    "    return G\n",
    "\n",
    "def get_color_gradient(n, colormap='viridis'):\n",
    "    cmap = plt.get_cmap(colormap)\n",
    "    norm = mcolors.Normalize(vmin=0, vmax=n-1)\n",
    "    scalar_map = plt.cm.ScalarMappable(norm=norm, cmap=cmap)\n",
    "    return [mcolors.to_hex(scalar_map.to_rgba(i)) for i in range(n)]\n",
    "\n",
    "def visualize_network(G:nx.Graph, positions)->Network:\n",
    "    '''\n",
    "    takes a graph and create a viz using pyviz - creates a Network object and returns it\n",
    "\n",
    "    the weights (originally are distances) here are inverse of the distances (the closer teh rgeater the weight)\n",
    "\n",
    "    param:\n",
    "    ------\n",
    "    - G: nx.Graph, graph object\n",
    "\n",
    "    return:\n",
    "    -------\n",
    "    - net: Network, pyviz network object\n",
    "    '''\n",
    "    num_nodes = G.number_of_nodes()\n",
    "    colors = get_color_gradient(num_nodes)\n",
    "\n",
    "    node_color_mapping = {node: colors[i] for i, node in enumerate(G.nodes)}\n",
    "\n",
    "    for node in G.nodes:\n",
    "        G.nodes[node]['pos'] = positions[node]\n",
    "        G.nodes[node]['color'] = node_color_mapping[node]\n",
    "\n",
    "    net = Network(notebook=True)\n",
    "\n",
    "    for node in G.nodes:\n",
    "        x, y = G.nodes[node]['pos']\n",
    "        x=float(x); y=float(y)\n",
    "        color = G.nodes[node]['color']\n",
    "        net.add_node(node, x=x, y=y, color=color)\n",
    "\n",
    "    for edge in G.edges:\n",
    "        inv_dist = 1/G.get_edge_data(edge[0], edge[1])['weight']\n",
    "        net.add_edge(edge[0], edge[1], value=inv_dist)\n",
    "        net.add_edge(edge[0], edge[1])\n",
    "    \n",
    "    return net\n",
    "\n",
    "create_2d_layout = lambda d: {k: v[:2] for k, v in d.items()} #this is used to convert pos from 3d space to 2d for viz\n"
   ]
  },
  {
   "cell_type": "markdown",
   "metadata": {},
   "source": [
    "## Workflow"
   ]
  },
  {
   "cell_type": "markdown",
   "metadata": {},
   "source": [
    "## Extracting PDB id\n",
    "\n"
   ]
  },
  {
   "cell_type": "code",
   "execution_count": 22,
   "metadata": {},
   "outputs": [],
   "source": [
    "aa = {\n",
    "    'ALA': 'A', 'CYS': 'C', 'ASP': 'D', 'GLU': 'E',\n",
    "    'PHE': 'F', 'GLY': 'G', 'HIS': 'H', 'ILE': 'I',\n",
    "    'LYS': 'K', 'LEU': 'L', 'MET': 'M', 'ASN': 'N',\n",
    "    'PRO': 'P', 'GLN': 'Q', 'ARG': 'R', 'SER': 'S',\n",
    "    'THR': 'T', 'VAL': 'V', 'TRP': 'W', 'TYR': 'Y'\n",
    "}\n",
    "\n",
    "\n",
    "import warnings\n",
    "warnings.filterwarnings(\"ignore\")\n",
    "#ignore bio.PDB discontinuos chains warnings"
   ]
  },
  {
   "cell_type": "code",
   "execution_count": 23,
   "metadata": {},
   "outputs": [
    {
     "name": "stdout",
     "output_type": "stream",
     "text": [
      "Downloading PDB structure '1iyt'...\n",
      "structure retrieved\n"
     ]
    }
   ],
   "source": [
    "pdb_id = input('Enter the pdb id: ')\n",
    "structure = get_PDB_structure(pdb_id)\n",
    "print(f'{pdb_id} structure retrieved')\n",
    "sequence = get_residues_coordinates(structure)"
   ]
  },
  {
   "cell_type": "markdown",
   "metadata": {},
   "source": [
    "### Creating contact map"
   ]
  },
  {
   "cell_type": "code",
   "execution_count": 24,
   "metadata": {},
   "outputs": [
    {
     "data": {
      "image/png": "[encoded data removed]",
      "text/plain": [
       "<Figure size 800x600 with 2 Axes>"
      ]
     },
     "metadata": {},
     "output_type": "display_data"
    }
   ],
   "source": [
    "df=create_distance_map(sequence)\n",
    "visualize_map(df, id=pdb_id)"
   ]
  },
  {
   "cell_type": "markdown",
   "metadata": {},
   "source": [
    "### Create network"
   ]
  },
  {
   "cell_type": "code",
   "execution_count": 25,
   "metadata": {},
   "outputs": [],
   "source": [
    "t=eval(input('set distance threshold in Angstroms to establish edges (default 8):'))\n",
    "G = create_network(df, threshold=t)\n",
    "nx.write_graphml(G, f'data/{pdb_id}/{pdb_id}_{t}_network.graphml')"
   ]
  },
  {
   "cell_type": "code",
   "execution_count": 29,
   "metadata": {},
   "outputs": [
    {
     "name": "stdout",
     "output_type": "stream",
     "text": [
      "Warning: When  cdn_resources is 'local' jupyter notebook has issues displaying graphics on chrome/safari. Use cdn_resources='in_line' or cdn_resources='remote' if you have issues viewing graphics in a notebook.\n",
      "data/1iyt/1iyt_8_network_viz.html\n"
     ]
    },
    {
     "data": {
      "text/html": [
       "\n",
       "        <iframe\n",
       "            width=\"100%\"\n",
       "            height=\"600px\"\n",
       "            src=\"data/1iyt/1iyt_8_network_viz.html\"\n",
       "            frameborder=\"0\"\n",
       "            allowfullscreen\n",
       "            \n",
       "        ></iframe>\n",
       "        "
      ],
      "text/plain": [
       "<IPython.lib.display.IFrame at 0x7f1589237650>"
      ]
     },
     "execution_count": 29,
     "metadata": {},
     "output_type": "execute_result"
    }
   ],
   "source": [
    "positions = create_2d_layout(sequence)\n",
    "\n",
    "net=visualize_network(G, positions)\n",
    "net.show(f'data/{pdb_id}/{pdb_id}_{t}_network_viz.html')"
   ]
  },
  {
   "cell_type": "code",
   "execution_count": 30,
   "metadata": {},
   "outputs": [],
   "source": [
    "# from IPython.display import display, HTML\n",
    "\n",
    "# with open(f'data/{pdb_id}/{pdb_id}_{t}_network_viz.html', 'r') as f:\n",
    "#     html_string = f.read()\n",
    "\n",
    "# display(HTML(html_string))"
   ]
  },
  {
   "cell_type": "markdown",
   "metadata": {},
   "source": [
    "<iframe src=\"test/karate_graph.html\" width=\"100%\" height=\"600\"></iframe>"
   ]
  }
 ],
 "metadata": {
  "kernelspec": {
   "display_name": "base",
   "language": "python",
   "name": "python3"
  },
  "language_info": {
   "codemirror_mode": {
    "name": "ipython",
    "version": 3
   },
   "file_extension": ".py",
   "mimetype": "text/x-python",
   "name": "python",
   "nbconvert_exporter": "python",
   "pygments_lexer": "ipython3",
   "version": "3.11.5"
  }
 },
 "nbformat": 4,
 "nbformat_minor": 2
}
